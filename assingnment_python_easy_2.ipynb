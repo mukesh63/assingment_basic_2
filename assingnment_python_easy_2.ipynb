{
 "metadata": {
  "language_info": {
   "codemirror_mode": {
    "name": "ipython",
    "version": 3
   },
   "file_extension": ".py",
   "mimetype": "text/x-python",
   "name": "python",
   "nbconvert_exporter": "python",
   "pygments_lexer": "ipython3",
   "version": "3.8.3-final"
  },
  "orig_nbformat": 2,
  "kernelspec": {
   "name": "python3",
   "display_name": "Python 3.8.3 64-bit (conda)",
   "metadata": {
    "interpreter": {
     "hash": "95c10dbc6f7eccef0c1ace84822d618f7863d3bc26cab307fc0169bb43c23fbe"
    }
   }
  }
 },
 "nbformat": 4,
 "nbformat_minor": 2,
 "cells": [
  {
   "source": [
    "# Q1"
   ],
   "cell_type": "markdown",
   "metadata": {}
  },
  {
   "cell_type": "code",
   "execution_count": 1,
   "metadata": {},
   "outputs": [
    {
     "output_type": "execute_result",
     "data": {
      "text/plain": [
       "False"
      ]
     },
     "metadata": {},
     "execution_count": 1
    }
   ],
   "source": [
    "#there are two types of boolean value\n",
    "True #this is first one\n",
    "False #this is the second one"
   ]
  },
  {
   "source": [
    "# Q2"
   ],
   "cell_type": "markdown",
   "metadata": {}
  },
  {
   "source": [
    "#there are three types of boolean operators <br>\n",
    "1) and <br>\n",
    "2)or <br>\n",
    "3) not <br>"
   ],
   "cell_type": "markdown",
   "metadata": {}
  },
  {
   "source": [
    "# Q3"
   ],
   "cell_type": "markdown",
   "metadata": {}
  },
  {
   "source": [
    "AND operator truth table:<br>\n",
    "\n",
    "X Y  Output <br>\n",
    "0 0   0 <br>\n",
    "0 1   0 <br>\n",
    "1 0   0 <br>\n",
    "1 1   1 <br>\n",
    "\n",
    "or Operator truth table: <br>\n",
    "\n",
    "X Y  Output <br>\n",
    "0 0     0 <br>\n",
    "0 1     1 <br>\n",
    "1 0     1 <br>\n",
    "1 1     1 <br>\n",
    "\n",
    "not operator truth table: <br>\n",
    "\n",
    "X       Output <br>\n",
    "0           1 <br>\n",
    "1           0 <br>\n",
    "\n",
    "here 0 is False and 1 is True <br>"
   ],
   "cell_type": "markdown",
   "metadata": {}
  },
  {
   "source": [
    "# Q4"
   ],
   "cell_type": "markdown",
   "metadata": {}
  },
  {
   "source": [
    "1) (5 > 4) and (3 == 5) <br>\n",
    "False <br>\n",
    "\n",
    "2) not (5 > 4) <br>\n",
    "False <br>\n",
    "\n",
    "3) (5 > 4) or (3 == 5) <br>\n",
    "True <br>\n",
    "\n",
    "4) not ((5 > 4) or (3 == 5)) <br>\n",
    "False <br>\n",
    "\n",
    "5) (True and True) and (True == False) <br>\n",
    "FAlse <br>\n",
    "\n",
    "6) (not False) or (not True) <br>\n",
    "True <br>\n"
   ],
   "cell_type": "markdown",
   "metadata": {}
  },
  {
   "source": [
    "# Q5"
   ],
   "cell_type": "markdown",
   "metadata": {}
  },
  {
   "cell_type": "code",
   "execution_count": null,
   "metadata": {},
   "outputs": [],
   "source": [
    "1) airthmetic operators\n",
    "2)logical operators \n",
    "3)assingment operators \n",
    "4)Comparison operators\n",
    "5)Identity operators\n",
    "6)Membership operators"
   ]
  },
  {
   "source": [
    "# Q6"
   ],
   "cell_type": "markdown",
   "metadata": {}
  },
  {
   "source": [
    "in equal to operators is double  == and in assingment operators <br>\n",
    "it can be =( simple assingment),+=(increament assingment),-=(decrement assingment),/=(divison assingment),%=(modulus assingment),*=(multpilcation assingment),**=(power assingment)."
   ],
   "cell_type": "markdown",
   "metadata": {}
  },
  {
   "cell_type": "code",
   "execution_count": 2,
   "metadata": {},
   "outputs": [
    {
     "output_type": "stream",
     "name": "stdout",
     "text": [
      "it is equal\n"
     ]
    }
   ],
   "source": [
    "#1\n",
    "a = 6\n",
    "b = 6\n",
    "if a == b:\n",
    "    print('it is equal')"
   ]
  },
  {
   "cell_type": "code",
   "execution_count": 3,
   "metadata": {},
   "outputs": [
    {
     "output_type": "stream",
     "name": "stdout",
     "text": [
      "12\n"
     ]
    }
   ],
   "source": [
    "#2 \n",
    "a = 5 \n",
    "b = 7\n",
    "b += a\n",
    "print(b)"
   ]
  },
  {
   "cell_type": "code",
   "execution_count": 4,
   "metadata": {},
   "outputs": [
    {
     "output_type": "stream",
     "name": "stdout",
     "text": [
      "2\n"
     ]
    }
   ],
   "source": [
    "a = 5 \n",
    "b = 7\n",
    "b -= a\n",
    "print(b)"
   ]
  },
  {
   "cell_type": "code",
   "execution_count": 5,
   "metadata": {},
   "outputs": [
    {
     "output_type": "stream",
     "name": "stdout",
     "text": [
      "35\n"
     ]
    }
   ],
   "source": [
    "a = 5 \n",
    "b = 7\n",
    "b *= a\n",
    "print(b)"
   ]
  },
  {
   "cell_type": "code",
   "execution_count": 6,
   "metadata": {},
   "outputs": [
    {
     "output_type": "stream",
     "name": "stdout",
     "text": [
      "1.4\n"
     ]
    }
   ],
   "source": [
    "a = 5 \n",
    "b = 7\n",
    "b /= a\n",
    "print(b)"
   ]
  },
  {
   "cell_type": "code",
   "execution_count": 7,
   "metadata": {},
   "outputs": [
    {
     "output_type": "stream",
     "name": "stdout",
     "text": [
      "16807\n"
     ]
    }
   ],
   "source": [
    "a = 5 \n",
    "b = 7\n",
    "b **= a\n",
    "print(b)"
   ]
  },
  {
   "cell_type": "code",
   "execution_count": 8,
   "metadata": {},
   "outputs": [
    {
     "output_type": "stream",
     "name": "stdout",
     "text": [
      "2\n"
     ]
    }
   ],
   "source": [
    "a = 5 \n",
    "b = 7\n",
    "b %= a\n",
    "print(b)"
   ]
  },
  {
   "cell_type": "code",
   "execution_count": 9,
   "metadata": {},
   "outputs": [
    {
     "output_type": "stream",
     "name": "stdout",
     "text": [
      "1\n"
     ]
    }
   ],
   "source": [
    "a = 5 \n",
    "b = 7\n",
    "b //= a\n",
    "print(b)"
   ]
  },
  {
   "source": [
    "# Q7"
   ],
   "cell_type": "markdown",
   "metadata": {}
  },
  {
   "cell_type": "code",
   "execution_count": 10,
   "metadata": {},
   "outputs": [
    {
     "output_type": "stream",
     "name": "stdout",
     "text": [
      "spam\n"
     ]
    }
   ],
   "source": [
    "spam = 0\n",
    "if spam == 10:\n",
    "    print('eggs') \n",
    "    if spam > 5:\n",
    "        print('bacon') #this is block 1\n",
    "    else:\n",
    "        print('ham') #this is block 2\n",
    "    print('spam')  \n",
    "print('spam') #this block 3"
   ]
  },
  {
   "source": [
    "# Q8"
   ],
   "cell_type": "markdown",
   "metadata": {}
  },
  {
   "cell_type": "code",
   "execution_count": 11,
   "metadata": {},
   "outputs": [
    {
     "output_type": "stream",
     "name": "stdout",
     "text": [
      "hello\n"
     ]
    }
   ],
   "source": [
    "spam = int(input('enter value'))\n",
    "if spam == 1:\n",
    "    print('hello')\n",
    "elif spam == 2:\n",
    "    print('howdy')\n",
    "elif spam == 3:\n",
    "    print('salutations')\n",
    "else:\n",
    "    print(\"if there's something else in spam\")"
   ]
  },
  {
   "source": [
    "# Q9\n"
   ],
   "cell_type": "markdown",
   "metadata": {}
  },
  {
   "source": [
    "kernel interrupt so that python stops excuting"
   ],
   "cell_type": "markdown",
   "metadata": {}
  },
  {
   "source": [
    "# Q10"
   ],
   "cell_type": "markdown",
   "metadata": {}
  },
  {
   "cell_type": "code",
   "execution_count": 12,
   "metadata": {},
   "outputs": [
    {
     "output_type": "stream",
     "name": "stdout",
     "text": [
      "m\n"
     ]
    }
   ],
   "source": [
    "a = 'mukesh'\n",
    "for i in a:\n",
    "    if i == 'u':\n",
    "        break\n",
    "    print(i)\n",
    "else:\n",
    "    print('the loop is broked')"
   ]
  },
  {
   "source": [
    "# Q11"
   ],
   "cell_type": "markdown",
   "metadata": {}
  },
  {
   "cell_type": "code",
   "execution_count": 13,
   "metadata": {},
   "outputs": [
    {
     "output_type": "stream",
     "name": "stdout",
     "text": [
      "0\n1\n2\n3\n4\n5\n6\n7\n8\n9\n"
     ]
    }
   ],
   "source": [
    "for i in range(10):\n",
    "    print(i)"
   ]
  },
  {
   "cell_type": "code",
   "execution_count": 14,
   "metadata": {},
   "outputs": [
    {
     "output_type": "stream",
     "name": "stdout",
     "text": [
      "0\n1\n2\n3\n4\n5\n6\n7\n8\n9\n"
     ]
    }
   ],
   "source": [
    "for i in range(0,10):\n",
    "    print(i)"
   ]
  },
  {
   "cell_type": "code",
   "execution_count": 16,
   "metadata": {},
   "outputs": [
    {
     "output_type": "stream",
     "name": "stdout",
     "text": [
      "0\n1\n2\n3\n4\n5\n6\n7\n8\n9\n"
     ]
    }
   ],
   "source": [
    "for i in range(0,10,1):\n",
    "    print(i)"
   ]
  },
  {
   "source": [
    "# Q12"
   ],
   "cell_type": "markdown",
   "metadata": {}
  },
  {
   "cell_type": "code",
   "execution_count": 17,
   "metadata": {},
   "outputs": [
    {
     "output_type": "stream",
     "name": "stdout",
     "text": [
      "1\n2\n3\n4\n5\n6\n7\n8\n9\n10\n"
     ]
    }
   ],
   "source": [
    "for i in range(1,11):\n",
    "    print(i)"
   ]
  },
  {
   "cell_type": "code",
   "execution_count": 19,
   "metadata": {},
   "outputs": [
    {
     "output_type": "stream",
     "name": "stdout",
     "text": [
      "1\n2\n3\n4\n5\n6\n7\n8\n9\n10\n"
     ]
    }
   ],
   "source": [
    "i = 1\n",
    "while i <= 10:\n",
    "    print(i)\n",
    "    i =  i+1"
   ]
  },
  {
   "source": [
    "# Q 13"
   ],
   "cell_type": "markdown",
   "metadata": {}
  },
  {
   "cell_type": "code",
   "execution_count": null,
   "metadata": {},
   "outputs": [],
   "source": [
    "spam.bacon()"
   ]
  }
 ]
}